{
 "cells": [
  {
   "cell_type": "code",
   "execution_count": 46,
   "metadata": {},
   "outputs": [],
   "source": [
    "import pandas as pd\n",
    "from sklearn.model_selection import train_test_split\n",
    "from sklearn.feature_extraction.text import TfidfVectorizer\n",
    "from sklearn.naive_bayes import MultinomialNB\n",
    "from sklearn.metrics import accuracy_score, classification_report\n"
   ]
  },
  {
   "cell_type": "code",
   "execution_count": 47,
   "metadata": {},
   "outputs": [],
   "source": [
    "# Load the dataset\n",
    "df = pd.read_csv('sus_comm.csv')\n",
    "# Split the data into training and testing sets\n",
    "X = df['comments']\n",
    "y = df['tagging']\n",
    "X_train, X_test, y_train, y_test = train_test_split(X, y, test_size=0.2, random_state=10)\n"
   ]
  },
  {
   "cell_type": "code",
   "execution_count": 48,
   "metadata": {},
   "outputs": [],
   "source": [
    "# Create a TF-IDF vectorizer\n",
    "tfidf_vectorizer = TfidfVectorizer(max_features=1000, stop_words='english')\n",
    "X_train_tfidf = tfidf_vectorizer.fit_transform(X_train)\n",
    "X_test_tfidf = tfidf_vectorizer.transform(X_test)\n"
   ]
  },
  {
   "cell_type": "code",
   "execution_count": 49,
   "metadata": {},
   "outputs": [
    {
     "name": "stdout",
     "output_type": "stream",
     "text": [
      "Accuracy: 0.72\n",
      "              precision    recall  f1-score   support\n",
      "\n",
      "           0       0.71      0.91      0.80      2453\n",
      "           1       0.74      0.42      0.54      1548\n",
      "\n",
      "    accuracy                           0.72      4001\n",
      "   macro avg       0.73      0.67      0.67      4001\n",
      "weighted avg       0.72      0.72      0.70      4001\n",
      "\n"
     ]
    }
   ],
   "source": [
    "# Create a Naive Bayes classifier\n",
    "clf = MultinomialNB()\n",
    "\n",
    "# Train the classifier on the TF-IDF features\n",
    "clf.fit(X_train_tfidf, y_train)\n",
    "# Make predictions on the test set\n",
    "y_pred = clf.predict(X_test_tfidf)\n",
    "\n",
    "# Evaluate the model\n",
    "accuracy = accuracy_score(y_test, y_pred)\n",
    "print(f'Accuracy: {accuracy:.2f}')\n",
    "\n",
    "# Display classification report\n",
    "print(classification_report(y_test, y_pred))\n"
   ]
  },
  {
   "cell_type": "code",
   "execution_count": 52,
   "metadata": {},
   "outputs": [
    {
     "name": "stdout",
     "output_type": "stream",
     "text": [
      "Predictions for new text:\n",
      "Text: \"You are a damn fucker.\" => Prediction: Not Suspicious\n",
      "Text: \"This is a good girl.\" => Prediction: Not Suspicious\n"
     ]
    }
   ],
   "source": [
    "# Example usage of the trained model for new predictions\n",
    "new_text = [\"I will fuck you.\", \"This is a good girl.\"]\n",
    "new_text_tfidf = tfidf_vectorizer.transform(new_text)\n",
    "new_predictions = clf.predict(new_text_tfidf)\n",
    "print(\"Predictions for new text:\")\n",
    "for text, prediction in zip(new_text, new_predictions):\n",
    "    label = \"Suspicious\" if prediction == 1 else \"Not Suspicious\"\n",
    "    print(f'Text: \"{text}\" => Prediction: {label}')"
   ]
  }
 ],
 "metadata": {
  "kernelspec": {
   "display_name": "Python 3",
   "language": "python",
   "name": "python3"
  },
  "language_info": {
   "codemirror_mode": {
    "name": "ipython",
    "version": 3
   },
   "file_extension": ".py",
   "mimetype": "text/x-python",
   "name": "python",
   "nbconvert_exporter": "python",
   "pygments_lexer": "ipython3",
   "version": "3.9.5"
  },
  "orig_nbformat": 4
 },
 "nbformat": 4,
 "nbformat_minor": 2
}
